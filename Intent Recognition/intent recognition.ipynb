{
 "cells": [
  {
   "cell_type": "code",
   "execution_count": 1,
   "metadata": {},
   "outputs": [],
   "source": [
    "import spacy\n",
    "\n",
    "nlp = spacy.load(\"es_core_news_lg\")"
   ]
  },
  {
   "cell_type": "code",
   "execution_count": 51,
   "metadata": {},
   "outputs": [
    {
     "name": "stdout",
     "output_type": "stream",
     "text": [
      "quererPizza\n",
      "quererCoca\n"
     ]
    }
   ],
   "source": [
    "doc = nlp(u'quisiera una pizza y una coca')\n",
    "\n",
    "for token in doc:\n",
    "    if token.dep_ == 'obj':\n",
    "        obj = [token.text]\n",
    "        verb = token.head.lemma_\n",
    "        conj = [t.text for t in token.conjuncts]\n",
    "obj_conj = obj + conj\n",
    "intents = [(verb + conj_i.capitalize()) for conj_i in obj_conj]\n",
    "\n",
    "for intent in intents:\n",
    "    print(intent)"
   ]
  },
  {
   "cell_type": "code",
   "execution_count": 58,
   "metadata": {},
   "outputs": [
    {
     "ename": "TypeError",
     "evalue": "'int' object is not callable",
     "output_type": "error",
     "traceback": [
      "\u001b[1;31m---------------------------------------------------------------------------\u001b[0m",
      "\u001b[1;31mTypeError\u001b[0m                                 Traceback (most recent call last)",
      "\u001b[1;32m<ipython-input-58-f7d1766577aa>\u001b[0m in \u001b[0;36m<module>\u001b[1;34m\u001b[0m\n\u001b[0;32m      4\u001b[0m \u001b[1;32mfor\u001b[0m \u001b[0mtoken\u001b[0m \u001b[1;32min\u001b[0m \u001b[0mdoc\u001b[0m\u001b[1;33m:\u001b[0m\u001b[1;33m\u001b[0m\u001b[1;33m\u001b[0m\u001b[0m\n\u001b[0;32m      5\u001b[0m     \u001b[1;32mif\u001b[0m \u001b[0mtoken\u001b[0m\u001b[1;33m.\u001b[0m\u001b[0mdep_\u001b[0m \u001b[1;33m==\u001b[0m \u001b[1;34m'obj'\u001b[0m\u001b[1;33m:\u001b[0m\u001b[1;33m\u001b[0m\u001b[1;33m\u001b[0m\u001b[0m\n\u001b[1;32m----> 6\u001b[1;33m         \u001b[0mverb\u001b[0m \u001b[1;33m=\u001b[0m \u001b[0mtoken\u001b[0m\u001b[1;33m.\u001b[0m\u001b[0mhead\u001b[0m\u001b[1;33m.\u001b[0m\u001b[0mlower\u001b[0m\u001b[1;33m(\u001b[0m\u001b[1;33m)\u001b[0m\u001b[1;33m.\u001b[0m\u001b[0mlemma_\u001b[0m\u001b[1;33m\u001b[0m\u001b[1;33m\u001b[0m\u001b[0m\n\u001b[0m\u001b[0;32m      7\u001b[0m         \u001b[0mdobj\u001b[0m \u001b[1;33m=\u001b[0m \u001b[0mtoken\u001b[0m\u001b[1;33m.\u001b[0m\u001b[0mtext\u001b[0m\u001b[1;33m\u001b[0m\u001b[1;33m\u001b[0m\u001b[0m\n\u001b[0;32m      8\u001b[0m \u001b[0mprint\u001b[0m\u001b[1;33m(\u001b[0m\u001b[0mverb\u001b[0m\u001b[1;33m)\u001b[0m\u001b[1;33m\u001b[0m\u001b[1;33m\u001b[0m\u001b[0m\n",
      "\u001b[1;31mTypeError\u001b[0m: 'int' object is not callable"
     ]
    }
   ],
   "source": [
    "#apply the pipeline to the sample sentence\n",
    "doc = nlp(u'quiero una comida.')\n",
    "#extract the transitive verb and its direct object from the dependency tree\n",
    "for token in doc:\n",
    "    if token.dep_ == 'obj':\n",
    "        verb = token.head.lemma_\n",
    "        dobj = token.text\n",
    "print(verb)\n",
    "#create a list of tuples for possible verb synonyms\n",
    "verbList = [('querer','ordenar','dar','hacer'),('mostrar','encontrar')]\n",
    "#find the tuple containing the transitive verb extracted from the sample\n",
    "verbSyns = [item for item in verbList if verb in item]\n",
    "#create a list of tuples for possible direct object synonyms\n",
    "dobjList = [('pizza','pay','comida'),('coca','soda')]\n",
    "#find the tuple containing the direct object extracted from the sample\n",
    "dobjSyns = [item for item in dobjList if dobj in item]\n",
    "#replace the transitive verb and the direct object with synonyms supported by the application\n",
    "#and compose the string that represents the intent\n",
    "print(verbSyns)\n",
    "print(dobjSyns)\n",
    "intent = verbSyns[0][0] + dobjSyns[0][0].capitalize()\n",
    "print(intent)"
   ]
  },
  {
   "cell_type": "code",
   "execution_count": null,
   "metadata": {},
   "outputs": [],
   "source": []
  }
 ],
 "metadata": {
  "kernelspec": {
   "display_name": "Python 3",
   "language": "python",
   "name": "python3"
  },
  "language_info": {
   "codemirror_mode": {
    "name": "ipython",
    "version": 3
   },
   "file_extension": ".py",
   "mimetype": "text/x-python",
   "name": "python",
   "nbconvert_exporter": "python",
   "pygments_lexer": "ipython3",
   "version": "3.8.3"
  }
 },
 "nbformat": 4,
 "nbformat_minor": 4
}
