{
 "cells": [
  {
   "cell_type": "code",
   "execution_count": 35,
   "metadata": {},
   "outputs": [],
   "source": [
    "from itertools import islice\n",
    "import pkg_resources\n",
    "from symspellpy import SymSpell, Verbosity, editdistance"
   ]
  },
  {
   "cell_type": "code",
   "execution_count": 63,
   "metadata": {},
   "outputs": [
    {
     "name": "stdout",
     "output_type": "stream",
     "text": [
      "[('de', 14459520), ('que', 14421005), ('no', 12379505), ('a', 9549646), ('la', 9125471)]\n"
     ]
    }
   ],
   "source": [
    "%%time\n",
    "sym_spell = SymSpell(max_dictionary_edit_distance=2, prefix_length=20)\n",
    "dictionary_path = \"es_full.txt\"\n",
    "sym_spell.load_dictionary(dictionary_path, term_index=0, count_index=1, encoding='utf8')\n",
    "\n",
    "# Print out first 5 elements to demonstrate that dictionary is\n",
    "# successfully loaded\n",
    "print(list(islice(sym_spell.words.items(), 5)))"
   ]
  },
  {
   "cell_type": "code",
   "execution_count": 66,
   "metadata": {},
   "outputs": [],
   "source": [
    "sym_spell._distance_algorithm = editdistance.DistanceAlgorithm.DAMERUAUOSA"
   ]
  },
  {
   "cell_type": "code",
   "execution_count": 95,
   "metadata": {},
   "outputs": [
    {
     "name": "stdout",
     "output_type": "stream",
     "text": [
      "hola, 0, 601523\n",
      "buenos, 2, 115064\n",
      "bot, 0, 155\n",
      "dias, 0, 9314\n",
      "buro, 0, 52\n",
      "de, 0, 14459520\n",
      "credito, 0, 656\n",
      "como, 0, 1630651\n",
      "estas, 0, 216844\n",
      "becas, 0, 813\n",
      "preparatoria, 0, 1862\n",
      "paa, 0, 65\n",
      "mty, 0, 1\n",
      "paep, 0, 1\n",
      "zzznombre, 3, 0\n"
     ]
    }
   ],
   "source": [
    "# lookup suggestions for multi-word input strings (supports compound\n",
    "# splitting & merging)\n",
    "input_term = ['hola', 'bvueenos', 'bot', 'dias', 'buro', 'de', 'credito', 'como', 'estas', 'becas', 'preparatoria', 'paa', 'mty', 'paep', 'zzznombre']\n",
    "# input_tem = 'hola bvuenos dias buro de creidot miedo, a la paep, zzznombre'\n",
    "# max edit distance per lookup (per single word, not per whole input string)\n",
    "\n",
    "for item in input_term:\n",
    "    suggestions = sym_spell.lookup(item, Verbosity.CLOSEST, max_edit_distance=2, include_unknown=True, ignore_token='(paep|paa)')\n",
    "    # display suggestion term, edit distance, and term frequency\n",
    "    #print(str(suggestions[0]).split(',')[0])\n",
    "    print(suggestions[0])"
   ]
  },
  {
   "cell_type": "code",
   "execution_count": null,
   "metadata": {},
   "outputs": [],
   "source": []
  }
 ],
 "metadata": {
  "kernelspec": {
   "display_name": "Python 3",
   "language": "python",
   "name": "python3"
  },
  "language_info": {
   "codemirror_mode": {
    "name": "ipython",
    "version": 3
   },
   "file_extension": ".py",
   "mimetype": "text/x-python",
   "name": "python",
   "nbconvert_exporter": "python",
   "pygments_lexer": "ipython3",
   "version": "3.7.9"
  }
 },
 "nbformat": 4,
 "nbformat_minor": 4
}
